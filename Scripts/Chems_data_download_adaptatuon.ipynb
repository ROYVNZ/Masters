{
  "cells": [
    {
      "cell_type": "markdown",
      "id": "5cf38489",
      "metadata": {},
      "source": [
        "## Adapatation of CMEMS data download provided by Favien\n",
        "Seems far more proffesional and clean and also fixes my hardcod problem\n"
      ]
    },
    {
      "cell_type": "code",
      "execution_count": 6,
      "id": "21168ea1",
      "metadata": {},
      "outputs": [],
      "source": [
        "import os\n",
        "import copernicusmarine as cpm\n",
        "from pathlib import Path\n",
        "import ast\n",
        "from datetime import datetime\n",
        "import shutil"
      ]
    },
    {
      "cell_type": "code",
      "execution_count": 7,
      "id": "5bcfa4eb",
      "metadata": {},
      "outputs": [
        {
          "name": "stdout",
          "output_type": "stream",
          "text": [
            "'data' folder already exists in the parent directory.\n",
            "'satellite' directory already exists inside 'data' folder.\n"
          ]
        }
      ],
      "source": [
        "\n",
        "def create_missing_directories():\n",
        "    # Define the path to the parent directory\n",
        "    parent_dir = os.path.abspath(os.path.join(os.getcwd(), os.pardir))\n",
        "\n",
        "    # Check if 'data' folder exists in the parent directory\n",
        "    data_dir = os.path.join(parent_dir, 'data')\n",
        "    if not os.path.exists(data_dir):\n",
        "        os.makedirs(data_dir)\n",
        "        print(\"'data' folder created in the parent directory.\")\n",
        "    else:\n",
        "        print(\"'data' folder already exists in the parent directory.\")\n",
        "\n",
        "    # Check if 'satellite' directory exists inside 'data' folder\n",
        "    satellite_dir = os.path.join(data_dir, 'satellite')\n",
        "    if not os.path.exists(satellite_dir):\n",
        "        os.makedirs(satellite_dir)\n",
        "        print(\"'satellite' directory created inside 'data' folder.\")\n",
        "    else:\n",
        "        print(\"'satellite' directory already exists inside 'data' folder.\")\n",
        "\n",
        "if __name__ == \"__main__\":\n",
        "    create_missing_directories()\n",
        "\n"
      ]
    },
    {
      "cell_type": "code",
      "execution_count": 8,
      "id": "152c656e",
      "metadata": {},
      "outputs": [
        {
          "name": "stdout",
          "output_type": "stream",
          "text": [
            "20241231\n",
            "/Users/davidlewis/Desktop/Masters/scripts\n",
            "../data\n",
            "../data/satellite\n"
          ]
        }
      ],
      "source": [
        "datasets_to_extract = [\n",
        "    \"cmems_obs-sst_glo_phy_nrt_l4_P1D-m\",  # daily L4 SST (near-real-time)\n",
        "    \"cmems_obs-oc_glo_bgc-plankton_my_l4-gapfree-multi-4km_P1D\"]          # bbp\n",
        "\n",
        "\n",
        "# Directory setup\n",
        "parent_dir = os.path.abspath(os.path.join(os.getcwd()))\n",
        "data_dir = \"../data\"\n",
        "satellite_dir = \"../data/satellite\"\n",
        "\n",
        "# Date and time setup\n",
        "start_time = \"2021-01-01T00:00:00\"  # Format time as YYYY-MM-DD\"T\"HH:MM:SS\n",
        "now = datetime.now()\n",
        "end_time = now.strftime(\"2024-12-31T00:00:00\")\n",
        "end_time2 = now.strftime(\"20241231\")\n",
        "print(end_time2)\n",
        "\n",
        "print(parent_dir)\n",
        "print(data_dir)\n",
        "print(satellite_dir)"
      ]
    },
    {
      "cell_type": "code",
      "execution_count": 9,
      "id": "cecde123",
      "metadata": {},
      "outputs": [
        {
          "name": "stdout",
          "output_type": "stream",
          "text": [
            "CMEMS_cmems_obs-sst_glo_phy_nrt_l4_P1D-m_2021-2024.nc does not exist. Proceeding to download.\n"
          ]
        },
        {
          "name": "stderr",
          "output_type": "stream",
          "text": [
            "INFO - 2025-09-06T09:43:34Z - Selected dataset version: \"202303\"\n",
            "INFO - 2025-09-06T09:43:34Z - Selected dataset part: \"default\"\n",
            "INFO - 2025-09-06T09:43:43Z - Starting download. Please wait...\n",
            "100%|██████████| 100/100 [03:45<00:00,  2.25s/it]\n",
            "INFO - 2025-09-06T09:47:29Z - Successfully downloaded to ../data/satellite/CMEMS_cmems_obs-sst_glo_phy_nrt_l4_P1D-m_2021-2024.nc\n"
          ]
        },
        {
          "name": "stdout",
          "output_type": "stream",
          "text": [
            "CMEMS_cmems_obs-oc_glo_bgc-plankton_my_l4-gapfree-multi-4km_P1D_2021-2024.nc does not exist. Proceeding to download.\n"
          ]
        },
        {
          "name": "stderr",
          "output_type": "stream",
          "text": [
            "INFO - 2025-09-06T09:47:29Z - Selected dataset version: \"202311\"\n",
            "INFO - 2025-09-06T09:47:29Z - Selected dataset part: \"default\"\n",
            "INFO - 2025-09-06T09:47:30Z - Starting download. Please wait...\n",
            "100%|██████████| 1425/1425 [23:11<00:00,  1.02it/s]\n",
            "INFO - 2025-09-06T10:10:42Z - Successfully downloaded to ../data/satellite/CMEMS_cmems_obs-oc_glo_bgc-plankton_my_l4-gapfree-multi-4km_P1D_2021-2024.nc\n"
          ]
        }
      ],
      "source": [
        "# Geographical bounds\n",
        "min_depth = 0\n",
        "max_depth = 10000\n",
        "min_lon = -60\n",
        "max_lon = -10\n",
        "min_lat = 40\n",
        "max_lat = 70\n",
        "\n",
        "# Loop through each dataset\n",
        "for dataset_to_extract in datasets_to_extract:\n",
        "    # Dynamically set the output filename based on the dataset name\n",
        "    saved_netCDF_as = f\"CMEMS_{dataset_to_extract}_2021-2024.nc\"\n",
        "    filepath = os.path.join(satellite_dir, saved_netCDF_as)\n",
        "\n",
        "    # Check if the file already exists\n",
        "    if os.path.exists(filepath):\n",
        "        response = input(f\"Do you want to remove and overwrite the file \\\"{saved_netCDF_as}\\\" (y/n): \").strip().lower()\n",
        "        if response == 'y':\n",
        "            os.remove(filepath)\n",
        "            print(f\"{filepath} has been removed.\")\n",
        "            print(f\"{saved_netCDF_as}. Proceeding to download.\")\n",
        "        else:\n",
        "            print(\"Download canceled.\")\n",
        "            continue\n",
        "    else:\n",
        "        print(f\"{saved_netCDF_as} does not exist. Proceeding to download.\")\n",
        "    \n",
        "    # Perform the data subset operation\n",
        "    cpm.subset(\n",
        "        dataset_id=dataset_to_extract,\n",
        "        minimum_longitude=min_lon,\n",
        "        maximum_longitude=max_lon,\n",
        "        minimum_latitude=min_lat,\n",
        "        maximum_latitude=max_lat,\n",
        "        start_datetime=start_time,\n",
        "        end_datetime=end_time,\n",
        "        minimum_depth=min_depth,\n",
        "        maximum_depth=max_depth,\n",
        "        output_filename=saved_netCDF_as,\n",
        "        output_directory=satellite_dir\n",
        "    )"
      ]
    },
    {
      "cell_type": "markdown",
      "id": "ed860b5b",
      "metadata": {},
      "source": []
    }
  ],
  "metadata": {
    "kernelspec": {
      "display_name": "venv",
      "language": "python",
      "name": "python3"
    },
    "language_info": {
      "codemirror_mode": {
        "name": "ipython",
        "version": 3
      },
      "file_extension": ".py",
      "mimetype": "text/x-python",
      "name": "python",
      "nbconvert_exporter": "python",
      "pygments_lexer": "ipython3",
      "version": "3.12.2"
    }
  },
  "nbformat": 4,
  "nbformat_minor": 5
}
