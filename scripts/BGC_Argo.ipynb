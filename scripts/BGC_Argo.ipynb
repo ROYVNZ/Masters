{
 "cells": [
  {
   "cell_type": "markdown",
   "id": "a2e6e979",
   "metadata": {},
   "source": [
    "# BGC-Argo Workflow \n",
    "\n",
    "Here Argo are listed within the region seperated and joined for joint analysis, Argo were selected for having CHLa\n"
   ]
  },
  {
   "cell_type": "code",
   "execution_count": null,
   "id": "f30e6c75",
   "metadata": {},
   "outputs": [],
   "source": [
    "# Loading Libraries\n",
    "import numpy as np\n",
    "import pandas as pd \n",
    "import argopy as ar\n",
    "import xarray as xr\n",
    "import matplotlib.pyplot as plt\n"
   ]
  },
  {
   "cell_type": "markdown",
   "id": "491bb8aa",
   "metadata": {},
   "source": [
    "### Creating Functions"
   ]
  },
  {
   "cell_type": "code",
   "execution_count": null,
   "id": "ee5c2f82",
   "metadata": {},
   "outputs": [],
   "source": [
    "# Function to plot Argo data (Flavien's code)\n",
    "\n",
    "def plot_transect(ds, varname = 'CHLA_ADJUSTED', depth_min = 0, depth_max = 300, log_scale=False):\n",
    "    # Build dataset from point-form arrays\n",
    "    ds_points = xr.Dataset(\n",
    "        {\n",
    "            \"VAR\": (\"obs\", ds[varname].values),\n",
    "            \"PRES\": (\"obs\", ds['PRES'].values),\n",
    "            \"TIME\": (\"obs\", ds['TIME'].values)\n",
    "        }\n",
    "    )\n",
    "\n",
    "    # Unique profile times\n",
    "    times_unique = np.unique(ds_points['TIME'].values)\n",
    "\n",
    "    # Regular pressure grid\n",
    "    depth_grid = np.arange(depth_min, depth_max, 2)  # adjust range and step as needed\n",
    "\n",
    "    profiles = []\n",
    "    for t in times_unique:\n",
    "        # Select all measurements at this time\n",
    "        mask_time = ds_points['TIME'].values == t\n",
    "        pres_vals = ds_points['PRES'].values[mask_time]\n",
    "        var_vals = ds_points['VAR'].values[mask_time]\n",
    "        \n",
    "        # Drop NaNs before interpolation\n",
    "        mask_valid = np.isfinite(pres_vals) & np.isfinite(var_vals)\n",
    "        if mask_valid.sum() > 1:\n",
    "            var_interp = np.interp(depth_grid, pres_vals[mask_valid], var_vals[mask_valid],\n",
    "                                    left=np.nan, right=np.nan)\n",
    "        else:\n",
    "            var_interp = np.full_like(depth_grid, np.nan, dtype=float)\n",
    "        profiles.append(var_interp)\n",
    "\n",
    "    # Convert to xarray DataArray for plotting\n",
    "    var_section = xr.DataArray(\n",
    "        np.array(profiles),\n",
    "        coords={\"TIME\": times_unique, \"PRES\": depth_grid},\n",
    "        dims=(\"TIME\", \"PRES\")\n",
    "    )\n",
    "    units = ds[varname].attrs['units']\n",
    "\n",
    "    # Plot section\n",
    "    plt.figure(figsize=(12, 6))\n",
    "    if log_scale:\n",
    "        pcm = plt.pcolormesh(\n",
    "        var_section['TIME'],\n",
    "        var_section['PRES'],\n",
    "        var_section.T,\n",
    "        shading='auto',\n",
    "        cmap='viridis',\n",
    "        norm=LogNorm(vmin=1e-3, vmax=np.nanmax(var_section))  # adjust vmin as needed\n",
    "    )\n",
    "    else:\n",
    "        pcm = plt.pcolormesh(var_section['TIME'], var_section['PRES'], var_section.T,\n",
    "                            shading='auto', cmap='viridis')\n",
    "    plt.gca().invert_yaxis()\n",
    "    plt.colorbar(pcm, label=f'{varname} {units}')\n",
    "    plt.xlabel('Time')\n",
    "    plt.ylabel('Pressure (dbar)')\n",
    "    plt.title(f'BGC-Argo {varname} Section (Depth vs Time)')\n",
    "    plt.tight_layout()\n",
    "    plt.show()"
   ]
  },
  {
   "cell_type": "markdown",
   "id": "06f6661d",
   "metadata": {},
   "source": [
    "## Downloading Argo data\n",
    "\n",
    "Downloading data "
   ]
  },
  {
   "cell_type": "code",
   "execution_count": null,
   "id": "63b1da7c",
   "metadata": {},
   "outputs": [],
   "source": [
    "ds = ar.DataFetcher(src=\"gdac\").float(7902223).to_xarray()\n",
    "with ar.set_options(mode='expert'):\n",
    "    ds_bgc = ar.DataFetcher(backend='erddap', ds = 'bgc').float(7902223).to_xarray()\n",
    "prof = ar.ArgoFloat(3902258).open_dataset('prof')"
   ]
  },
  {
   "cell_type": "code",
   "execution_count": null,
   "id": "8f06fa4b",
   "metadata": {},
   "outputs": [],
   "source": [
    "\n",
    "plt.figure(figsize=(12,6))\n",
    "plt.scatter(prof['LONGITUDE'].values, prof['LATITUDE'].values,c = prof['CYCLE_NUMBER'], s=25)\n",
    "plt.show()"
   ]
  }
 ],
 "metadata": {
  "language_info": {
   "name": "python"
  }
 },
 "nbformat": 4,
 "nbformat_minor": 5
}
